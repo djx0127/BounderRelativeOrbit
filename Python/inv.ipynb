{
 "cells": [
  {
   "cell_type": "code",
   "execution_count": 2,
   "id": "a6c55a28",
   "metadata": {},
   "outputs": [],
   "source": [
    "import numpy as np\n",
    "from scipy.io import loadmat\n",
    "from sklearn.model_selection import train_test_split\n",
    "from sklearn.neighbors import NearestNeighbors\n",
    "from sklearn.mixture import GaussianMixture\n",
    "from sklearn.preprocessing import StandardScaler\n",
    "from sklearn.preprocessing import MinMaxScaler\n",
    "from matplotlib import pyplot as plt\n",
    "import os\n",
    "import seaborn as sns\n"
   ]
  },
  {
   "cell_type": "code",
   "execution_count": 5,
   "id": "ddf6e021",
   "metadata": {},
   "outputs": [],
   "source": [
    "def load_and_combine(mat_files):\n",
    "    X_combined, Y_combined = [], []\n",
    "    for file in mat_files:\n",
    "        data = loadmat(file)\n",
    "        X = data['X_4d']  # 确保变量名与.mat文件中的一致\n",
    "        Y = data['Y_2d']  # 如果维度是(4, n_samples)，需转置为X.T\n",
    "        X_combined.append(X)\n",
    "        Y_combined.append(Y)\n",
    "    return np.vstack(X_combined), np.vstack(Y_combined)\n",
    "\n",
    "folder = \"data_New\"\n",
    "with os.scandir(folder) as entries:\n",
    "    mat_files = [entry.path for entry in entries if entry.name.endswith('.mat') and entry.is_file()]\n",
    "X, Y = load_and_combine(mat_files)\n",
    "\n",
    "x_scalers = [MinMaxScaler() for _ in range(4)] # 对四个维度分别 MinMaxScaler\n",
    "y_scalers = [MinMaxScaler() for _ in range(2)] # 对两个维度分别 MinMaxScaler\n",
    "X_scaled = np.zeros(X.shape)\n",
    "Y_scaled = np.zeros(Y.shape)\n",
    "\n",
    "for i in range(4):\n",
    "    X_scaled[:, i] = x_scalers[i].fit_transform(X[:, i].reshape(-1, 1)).flatten()\n",
    "for i in range(2):\n",
    "    Y_scaled[:, i] = y_scalers[i].fit_transform(Y[:, i].reshape(-1, 1)).flatten()\n"
   ]
  },
  {
   "cell_type": "code",
   "execution_count": 3,
   "id": "0b7ea519",
   "metadata": {},
   "outputs": [
    {
     "name": "stdout",
     "output_type": "stream",
     "text": [
      "max:[49.89999967], min:[20.69417536]\n",
      "max:[-0.01730248], min:[-0.51546563]\n"
     ]
    }
   ],
   "source": [
    "for scaler in y_scalers:\n",
    "    print(\"max:{}, min:{}\".format(scaler.data_max_,scaler.data_min_))"
   ]
  },
  {
   "cell_type": "markdown",
   "id": "8bc9084e",
   "metadata": {},
   "source": [
    "可视化"
   ]
  },
  {
   "cell_type": "code",
   "execution_count": 4,
   "id": "8d3ceb0a",
   "metadata": {},
   "outputs": [
    {
     "ename": "KeyboardInterrupt",
     "evalue": "",
     "output_type": "error",
     "traceback": [
      "\u001b[31m---------------------------------------------------------------------------\u001b[39m",
      "\u001b[31mKeyboardInterrupt\u001b[39m                         Traceback (most recent call last)",
      "\u001b[36mCell\u001b[39m\u001b[36m \u001b[39m\u001b[32mIn[4]\u001b[39m\u001b[32m, line 3\u001b[39m\n\u001b[32m      1\u001b[39m \u001b[38;5;28;01mimport\u001b[39;00m\u001b[38;5;250m \u001b[39m\u001b[34;01mpandas\u001b[39;00m\u001b[38;5;250m \u001b[39m\u001b[38;5;28;01mas\u001b[39;00m\u001b[38;5;250m \u001b[39m\u001b[34;01mpd\u001b[39;00m\n\u001b[32m      2\u001b[39m data = pd.DataFrame(np.hstack([X_scaled, Y_scaled]), columns=[\u001b[33m'\u001b[39m\u001b[33mkappa\u001b[39m\u001b[33m'\u001b[39m, \u001b[33m'\u001b[39m\u001b[33malpha\u001b[39m\u001b[33m'\u001b[39m,\u001b[33m'\u001b[39m\u001b[33mHz\u001b[39m\u001b[33m'\u001b[39m,\u001b[33m'\u001b[39m\u001b[33mDeltE\u001b[39m\u001b[33m'\u001b[39m, \u001b[33m'\u001b[39m\u001b[33mT\u001b[39m\u001b[33m'\u001b[39m, \u001b[33m'\u001b[39m\u001b[33mOMG\u001b[39m\u001b[33m'\u001b[39m])\n\u001b[32m----> \u001b[39m\u001b[32m3\u001b[39m g = \u001b[43msns\u001b[49m\u001b[43m.\u001b[49m\u001b[43mpairplot\u001b[49m\u001b[43m(\u001b[49m\n\u001b[32m      4\u001b[39m \u001b[43m    \u001b[49m\u001b[43mdata\u001b[49m\u001b[43m,\u001b[49m\n\u001b[32m      5\u001b[39m \u001b[43m    \u001b[49m\u001b[43mdiag_kind\u001b[49m\u001b[43m=\u001b[49m\u001b[33;43m\"\u001b[39;49m\u001b[33;43mkde\u001b[39;49m\u001b[33;43m\"\u001b[39;49m\u001b[43m,\u001b[49m\n\u001b[32m      6\u001b[39m \u001b[43m    \u001b[49m\u001b[43mkind\u001b[49m\u001b[43m=\u001b[49m\u001b[33;43m\"\u001b[39;49m\u001b[33;43mscatter\u001b[39;49m\u001b[33;43m\"\u001b[39;49m\u001b[43m,\u001b[49m\n\u001b[32m      7\u001b[39m \u001b[43m    \u001b[49m\u001b[43mx_vars\u001b[49m\u001b[43m=\u001b[49m\u001b[43m[\u001b[49m\u001b[33;43m'\u001b[39;49m\u001b[33;43mkappa\u001b[39;49m\u001b[33;43m'\u001b[39;49m\u001b[43m,\u001b[49m\u001b[43m \u001b[49m\u001b[33;43m'\u001b[39;49m\u001b[33;43malpha\u001b[39;49m\u001b[33;43m'\u001b[39;49m\u001b[43m,\u001b[49m\u001b[33;43m'\u001b[39;49m\u001b[33;43mHz\u001b[39;49m\u001b[33;43m'\u001b[39;49m\u001b[43m,\u001b[49m\u001b[33;43m'\u001b[39;49m\u001b[33;43mDeltE\u001b[39;49m\u001b[33;43m'\u001b[39;49m\u001b[43m]\u001b[49m\u001b[43m,\u001b[49m\n\u001b[32m      8\u001b[39m \u001b[43m    \u001b[49m\u001b[43my_vars\u001b[49m\u001b[43m=\u001b[49m\u001b[43m[\u001b[49m\u001b[33;43m'\u001b[39;49m\u001b[33;43mT\u001b[39;49m\u001b[33;43m'\u001b[39;49m\u001b[43m,\u001b[49m\u001b[43m \u001b[49m\u001b[33;43m'\u001b[39;49m\u001b[33;43mOMG\u001b[39;49m\u001b[33;43m'\u001b[39;49m\u001b[43m]\u001b[49m\u001b[43m,\u001b[49m\n\u001b[32m      9\u001b[39m \u001b[43m    \u001b[49m\u001b[43mplot_kws\u001b[49m\u001b[43m=\u001b[49m\u001b[38;5;28;43mdict\u001b[39;49m\u001b[43m(\u001b[49m\u001b[43ms\u001b[49m\u001b[43m=\u001b[49m\u001b[32;43m50\u001b[39;49m\u001b[43m,\u001b[49m\u001b[43medgecolor\u001b[49m\u001b[43m=\u001b[49m\u001b[33;43m\"\u001b[39;49m\u001b[33;43mw\u001b[39;49m\u001b[33;43m\"\u001b[39;49m\u001b[43m,\u001b[49m\u001b[43mcolor\u001b[49m\u001b[43m=\u001b[49m\u001b[33;43m\"\u001b[39;49m\u001b[33;43mb\u001b[39;49m\u001b[33;43m\"\u001b[39;49m\u001b[43m,\u001b[49m\u001b[43malpha\u001b[49m\u001b[43m=\u001b[49m\u001b[32;43m.5\u001b[39;49m\u001b[43m)\u001b[49m\n\u001b[32m     10\u001b[39m \n\u001b[32m     11\u001b[39m \u001b[43m    \u001b[49m\u001b[43m)\u001b[49m\n\u001b[32m     12\u001b[39m \u001b[38;5;66;03m# 设置坐标轴标签\u001b[39;00m\n\u001b[32m     13\u001b[39m x_labels = [\u001b[33mr\u001b[39m\u001b[33m'\u001b[39m\u001b[33m$\u001b[39m\u001b[33m\\\u001b[39m\u001b[33mkappa$\u001b[39m\u001b[33m'\u001b[39m, \u001b[33mr\u001b[39m\u001b[33m'\u001b[39m\u001b[33m$\u001b[39m\u001b[33m\\\u001b[39m\u001b[33malpha$\u001b[39m\u001b[33m'\u001b[39m, \u001b[33mr\u001b[39m\u001b[33m'\u001b[39m\u001b[33m$H_z$\u001b[39m\u001b[33m'\u001b[39m, \u001b[33mr\u001b[39m\u001b[33m'\u001b[39m\u001b[33m$\u001b[39m\u001b[33m\\\u001b[39m\u001b[33mDelta E$\u001b[39m\u001b[33m'\u001b[39m]\n",
      "\u001b[36mFile \u001b[39m\u001b[32m~/miniconda3/envs/sklearn-env/lib/python3.13/site-packages/seaborn/axisgrid.py:2163\u001b[39m, in \u001b[36mpairplot\u001b[39m\u001b[34m(data, hue, hue_order, palette, vars, x_vars, y_vars, kind, diag_kind, markers, height, aspect, corner, dropna, plot_kws, diag_kws, grid_kws, size)\u001b[39m\n\u001b[32m   2161\u001b[39m \u001b[38;5;28;01mif\u001b[39;00m kind == \u001b[33m\"\u001b[39m\u001b[33mscatter\u001b[39m\u001b[33m\"\u001b[39m:\n\u001b[32m   2162\u001b[39m     \u001b[38;5;28;01mfrom\u001b[39;00m\u001b[38;5;250m \u001b[39m\u001b[34;01m.\u001b[39;00m\u001b[34;01mrelational\u001b[39;00m\u001b[38;5;250m \u001b[39m\u001b[38;5;28;01mimport\u001b[39;00m scatterplot  \u001b[38;5;66;03m# Avoid circular import\u001b[39;00m\n\u001b[32m-> \u001b[39m\u001b[32m2163\u001b[39m     \u001b[43mplotter\u001b[49m\u001b[43m(\u001b[49m\u001b[43mscatterplot\u001b[49m\u001b[43m,\u001b[49m\u001b[43m \u001b[49m\u001b[43m*\u001b[49m\u001b[43m*\u001b[49m\u001b[43mplot_kws\u001b[49m\u001b[43m)\u001b[49m\n\u001b[32m   2164\u001b[39m \u001b[38;5;28;01melif\u001b[39;00m kind == \u001b[33m\"\u001b[39m\u001b[33mreg\u001b[39m\u001b[33m\"\u001b[39m:\n\u001b[32m   2165\u001b[39m     \u001b[38;5;28;01mfrom\u001b[39;00m\u001b[38;5;250m \u001b[39m\u001b[34;01m.\u001b[39;00m\u001b[34;01mregression\u001b[39;00m\u001b[38;5;250m \u001b[39m\u001b[38;5;28;01mimport\u001b[39;00m regplot  \u001b[38;5;66;03m# Avoid circular import\u001b[39;00m\n",
      "\u001b[36mFile \u001b[39m\u001b[32m~/miniconda3/envs/sklearn-env/lib/python3.13/site-packages/seaborn/axisgrid.py:1434\u001b[39m, in \u001b[36mPairGrid.map_offdiag\u001b[39m\u001b[34m(self, func, **kwargs)\u001b[39m\n\u001b[32m   1432\u001b[39m             \u001b[38;5;28;01mif\u001b[39;00m x_var != y_var:\n\u001b[32m   1433\u001b[39m                 indices.append((i, j))\n\u001b[32m-> \u001b[39m\u001b[32m1434\u001b[39m     \u001b[38;5;28;43mself\u001b[39;49m\u001b[43m.\u001b[49m\u001b[43m_map_bivariate\u001b[49m\u001b[43m(\u001b[49m\u001b[43mfunc\u001b[49m\u001b[43m,\u001b[49m\u001b[43m \u001b[49m\u001b[43mindices\u001b[49m\u001b[43m,\u001b[49m\u001b[43m \u001b[49m\u001b[43m*\u001b[49m\u001b[43m*\u001b[49m\u001b[43mkwargs\u001b[49m\u001b[43m)\u001b[49m\n\u001b[32m   1435\u001b[39m \u001b[38;5;28;01mreturn\u001b[39;00m \u001b[38;5;28mself\u001b[39m\n",
      "\u001b[36mFile \u001b[39m\u001b[32m~/miniconda3/envs/sklearn-env/lib/python3.13/site-packages/seaborn/axisgrid.py:1574\u001b[39m, in \u001b[36mPairGrid._map_bivariate\u001b[39m\u001b[34m(self, func, indices, **kwargs)\u001b[39m\n\u001b[32m   1572\u001b[39m     \u001b[38;5;28;01mif\u001b[39;00m ax \u001b[38;5;129;01mis\u001b[39;00m \u001b[38;5;28;01mNone\u001b[39;00m:  \u001b[38;5;66;03m# i.e. we are in corner mode\u001b[39;00m\n\u001b[32m   1573\u001b[39m         \u001b[38;5;28;01mcontinue\u001b[39;00m\n\u001b[32m-> \u001b[39m\u001b[32m1574\u001b[39m     \u001b[38;5;28;43mself\u001b[39;49m\u001b[43m.\u001b[49m\u001b[43m_plot_bivariate\u001b[49m\u001b[43m(\u001b[49m\u001b[43mx_var\u001b[49m\u001b[43m,\u001b[49m\u001b[43m \u001b[49m\u001b[43my_var\u001b[49m\u001b[43m,\u001b[49m\u001b[43m \u001b[49m\u001b[43max\u001b[49m\u001b[43m,\u001b[49m\u001b[43m \u001b[49m\u001b[43mfunc\u001b[49m\u001b[43m,\u001b[49m\u001b[43m \u001b[49m\u001b[43m*\u001b[49m\u001b[43m*\u001b[49m\u001b[43mkws\u001b[49m\u001b[43m)\u001b[49m\n\u001b[32m   1575\u001b[39m \u001b[38;5;28mself\u001b[39m._add_axis_labels()\n\u001b[32m   1577\u001b[39m \u001b[38;5;28;01mif\u001b[39;00m \u001b[33m\"\u001b[39m\u001b[33mhue\u001b[39m\u001b[33m\"\u001b[39m \u001b[38;5;129;01min\u001b[39;00m signature(func).parameters:\n",
      "\u001b[36mFile \u001b[39m\u001b[32m~/miniconda3/envs/sklearn-env/lib/python3.13/site-packages/seaborn/axisgrid.py:1615\u001b[39m, in \u001b[36mPairGrid._plot_bivariate\u001b[39m\u001b[34m(self, x_var, y_var, ax, func, **kwargs)\u001b[39m\n\u001b[32m   1611\u001b[39m \u001b[38;5;28;01mif\u001b[39;00m \u001b[33m\"\u001b[39m\u001b[33mhue\u001b[39m\u001b[33m\"\u001b[39m \u001b[38;5;129;01mnot\u001b[39;00m \u001b[38;5;129;01min\u001b[39;00m kwargs:\n\u001b[32m   1612\u001b[39m     kwargs.update({\n\u001b[32m   1613\u001b[39m         \u001b[33m\"\u001b[39m\u001b[33mhue\u001b[39m\u001b[33m\"\u001b[39m: hue, \u001b[33m\"\u001b[39m\u001b[33mhue_order\u001b[39m\u001b[33m\"\u001b[39m: \u001b[38;5;28mself\u001b[39m._hue_order, \u001b[33m\"\u001b[39m\u001b[33mpalette\u001b[39m\u001b[33m\"\u001b[39m: \u001b[38;5;28mself\u001b[39m._orig_palette,\n\u001b[32m   1614\u001b[39m     })\n\u001b[32m-> \u001b[39m\u001b[32m1615\u001b[39m \u001b[43mfunc\u001b[49m\u001b[43m(\u001b[49m\u001b[43mx\u001b[49m\u001b[43m=\u001b[49m\u001b[43mx\u001b[49m\u001b[43m,\u001b[49m\u001b[43m \u001b[49m\u001b[43my\u001b[49m\u001b[43m=\u001b[49m\u001b[43my\u001b[49m\u001b[43m,\u001b[49m\u001b[43m \u001b[49m\u001b[43m*\u001b[49m\u001b[43m*\u001b[49m\u001b[43mkwargs\u001b[49m\u001b[43m)\u001b[49m\n\u001b[32m   1617\u001b[39m \u001b[38;5;28mself\u001b[39m._update_legend_data(ax)\n",
      "\u001b[36mFile \u001b[39m\u001b[32m~/miniconda3/envs/sklearn-env/lib/python3.13/site-packages/seaborn/relational.py:631\u001b[39m, in \u001b[36mscatterplot\u001b[39m\u001b[34m(data, x, y, hue, size, style, palette, hue_order, hue_norm, sizes, size_order, size_norm, markers, style_order, legend, ax, **kwargs)\u001b[39m\n\u001b[32m    628\u001b[39m \u001b[38;5;28;01mif\u001b[39;00m \u001b[38;5;129;01mnot\u001b[39;00m p.has_xy_data:\n\u001b[32m    629\u001b[39m     \u001b[38;5;28;01mreturn\u001b[39;00m ax\n\u001b[32m--> \u001b[39m\u001b[32m631\u001b[39m \u001b[43mp\u001b[49m\u001b[43m.\u001b[49m\u001b[43m_attach\u001b[49m\u001b[43m(\u001b[49m\u001b[43max\u001b[49m\u001b[43m)\u001b[49m\n\u001b[32m    633\u001b[39m color = kwargs.pop(\u001b[33m\"\u001b[39m\u001b[33mcolor\u001b[39m\u001b[33m\"\u001b[39m, \u001b[38;5;28;01mNone\u001b[39;00m)\n\u001b[32m    634\u001b[39m kwargs[\u001b[33m\"\u001b[39m\u001b[33mcolor\u001b[39m\u001b[33m\"\u001b[39m] = _default_color(ax.scatter, hue, color, kwargs)\n",
      "\u001b[36mFile \u001b[39m\u001b[32m~/miniconda3/envs/sklearn-env/lib/python3.13/site-packages/seaborn/_base.py:1128\u001b[39m, in \u001b[36mVectorPlotter._attach\u001b[39m\u001b[34m(self, obj, allowed_types, log_scale)\u001b[39m\n\u001b[32m   1126\u001b[39m \u001b[38;5;66;03m# Now actually update the matplotlib objects to do the conversion we want\u001b[39;00m\n\u001b[32m   1127\u001b[39m grouped = \u001b[38;5;28mself\u001b[39m.plot_data[var].groupby(\u001b[38;5;28mself\u001b[39m.converters[var], sort=\u001b[38;5;28;01mFalse\u001b[39;00m)\n\u001b[32m-> \u001b[39m\u001b[32m1128\u001b[39m \u001b[43m\u001b[49m\u001b[38;5;28;43;01mfor\u001b[39;49;00m\u001b[43m \u001b[49m\u001b[43mconverter\u001b[49m\u001b[43m,\u001b[49m\u001b[43m \u001b[49m\u001b[43mseed_data\u001b[49m\u001b[43m \u001b[49m\u001b[38;5;129;43;01min\u001b[39;49;00m\u001b[43m \u001b[49m\u001b[43mgrouped\u001b[49m\u001b[43m:\u001b[49m\n\u001b[32m   1129\u001b[39m \u001b[43m    \u001b[49m\u001b[38;5;28;43;01mif\u001b[39;49;00m\u001b[43m \u001b[49m\u001b[38;5;28;43mself\u001b[39;49m\u001b[43m.\u001b[49m\u001b[43mvar_types\u001b[49m\u001b[43m[\u001b[49m\u001b[43mvar\u001b[49m\u001b[43m]\u001b[49m\u001b[43m \u001b[49m\u001b[43m==\u001b[49m\u001b[43m \u001b[49m\u001b[33;43m\"\u001b[39;49m\u001b[33;43mcategorical\u001b[39;49m\u001b[33;43m\"\u001b[39;49m\u001b[43m:\u001b[49m\n\u001b[32m   1130\u001b[39m \u001b[43m        \u001b[49m\u001b[38;5;28;43;01mif\u001b[39;49;00m\u001b[43m \u001b[49m\u001b[38;5;28;43mself\u001b[39;49m\u001b[43m.\u001b[49m\u001b[43m_var_ordered\u001b[49m\u001b[43m[\u001b[49m\u001b[43mvar\u001b[49m\u001b[43m]\u001b[49m\u001b[43m:\u001b[49m\n",
      "\u001b[36mFile \u001b[39m\u001b[32m~/miniconda3/envs/sklearn-env/lib/python3.13/site-packages/pandas/core/groupby/ops.py:618\u001b[39m, in \u001b[36mBaseGrouper.get_iterator\u001b[39m\u001b[34m(self, data, axis)\u001b[39m\n\u001b[32m    607\u001b[39m \u001b[38;5;28;01mdef\u001b[39;00m\u001b[38;5;250m \u001b[39m\u001b[34mget_iterator\u001b[39m(\n\u001b[32m    608\u001b[39m     \u001b[38;5;28mself\u001b[39m, data: NDFrameT, axis: AxisInt = \u001b[32m0\u001b[39m\n\u001b[32m    609\u001b[39m ) -> Iterator[\u001b[38;5;28mtuple\u001b[39m[Hashable, NDFrameT]]:\n\u001b[32m    610\u001b[39m \u001b[38;5;250m    \u001b[39m\u001b[33;03m\"\"\"\u001b[39;00m\n\u001b[32m    611\u001b[39m \u001b[33;03m    Groupby iterator\u001b[39;00m\n\u001b[32m    612\u001b[39m \n\u001b[32m   (...)\u001b[39m\u001b[32m    616\u001b[39m \u001b[33;03m    for each group\u001b[39;00m\n\u001b[32m    617\u001b[39m \u001b[33;03m    \"\"\"\u001b[39;00m\n\u001b[32m--> \u001b[39m\u001b[32m618\u001b[39m     splitter = \u001b[38;5;28;43mself\u001b[39;49m\u001b[43m.\u001b[49m\u001b[43m_get_splitter\u001b[49m\u001b[43m(\u001b[49m\u001b[43mdata\u001b[49m\u001b[43m,\u001b[49m\u001b[43m \u001b[49m\u001b[43maxis\u001b[49m\u001b[43m=\u001b[49m\u001b[43maxis\u001b[49m\u001b[43m)\u001b[49m\n\u001b[32m    619\u001b[39m     keys = \u001b[38;5;28mself\u001b[39m.group_keys_seq\n\u001b[32m    620\u001b[39m     \u001b[38;5;28;01myield from\u001b[39;00m \u001b[38;5;28mzip\u001b[39m(keys, splitter)\n",
      "\u001b[36mFile \u001b[39m\u001b[32m~/miniconda3/envs/sklearn-env/lib/python3.13/site-packages/pandas/core/groupby/ops.py:629\u001b[39m, in \u001b[36mBaseGrouper._get_splitter\u001b[39m\u001b[34m(self, data, axis)\u001b[39m\n\u001b[32m    622\u001b[39m \u001b[38;5;129m@final\u001b[39m\n\u001b[32m    623\u001b[39m \u001b[38;5;28;01mdef\u001b[39;00m\u001b[38;5;250m \u001b[39m\u001b[34m_get_splitter\u001b[39m(\u001b[38;5;28mself\u001b[39m, data: NDFrame, axis: AxisInt = \u001b[32m0\u001b[39m) -> DataSplitter:\n\u001b[32m    624\u001b[39m \u001b[38;5;250m    \u001b[39m\u001b[33;03m\"\"\"\u001b[39;00m\n\u001b[32m    625\u001b[39m \u001b[33;03m    Returns\u001b[39;00m\n\u001b[32m    626\u001b[39m \u001b[33;03m    -------\u001b[39;00m\n\u001b[32m    627\u001b[39m \u001b[33;03m    Generator yielding subsetted objects\u001b[39;00m\n\u001b[32m    628\u001b[39m \u001b[33;03m    \"\"\"\u001b[39;00m\n\u001b[32m--> \u001b[39m\u001b[32m629\u001b[39m     ids, _, ngroups = \u001b[38;5;28;43mself\u001b[39;49m\u001b[43m.\u001b[49m\u001b[43mgroup_info\u001b[49m\n\u001b[32m    630\u001b[39m     \u001b[38;5;28;01mreturn\u001b[39;00m _get_splitter(\n\u001b[32m    631\u001b[39m         data,\n\u001b[32m    632\u001b[39m         ids,\n\u001b[32m   (...)\u001b[39m\u001b[32m    636\u001b[39m         axis=axis,\n\u001b[32m    637\u001b[39m     )\n",
      "\u001b[36mFile \u001b[39m\u001b[32mproperties.pyx:36\u001b[39m, in \u001b[36mpandas._libs.properties.CachedProperty.__get__\u001b[39m\u001b[34m()\u001b[39m\n",
      "\u001b[36mFile \u001b[39m\u001b[32m~/miniconda3/envs/sklearn-env/lib/python3.13/site-packages/pandas/core/groupby/ops.py:745\u001b[39m, in \u001b[36mBaseGrouper.group_info\u001b[39m\u001b[34m(self)\u001b[39m\n\u001b[32m    743\u001b[39m \u001b[38;5;129m@cache_readonly\u001b[39m\n\u001b[32m    744\u001b[39m \u001b[38;5;28;01mdef\u001b[39;00m\u001b[38;5;250m \u001b[39m\u001b[34mgroup_info\u001b[39m(\u001b[38;5;28mself\u001b[39m) -> \u001b[38;5;28mtuple\u001b[39m[npt.NDArray[np.intp], npt.NDArray[np.intp], \u001b[38;5;28mint\u001b[39m]:\n\u001b[32m--> \u001b[39m\u001b[32m745\u001b[39m     comp_ids, obs_group_ids = \u001b[38;5;28;43mself\u001b[39;49m\u001b[43m.\u001b[49m\u001b[43m_get_compressed_codes\u001b[49m\u001b[43m(\u001b[49m\u001b[43m)\u001b[49m\n\u001b[32m    747\u001b[39m     ngroups = \u001b[38;5;28mlen\u001b[39m(obs_group_ids)\n\u001b[32m    748\u001b[39m     comp_ids = ensure_platform_int(comp_ids)\n",
      "\u001b[36mFile \u001b[39m\u001b[32m~/miniconda3/envs/sklearn-env/lib/python3.13/site-packages/pandas/core/groupby/ops.py:769\u001b[39m, in \u001b[36mBaseGrouper._get_compressed_codes\u001b[39m\u001b[34m(self)\u001b[39m\n\u001b[32m    766\u001b[39m     \u001b[38;5;66;03m# FIXME: compress_group_index's second return value is int64, not intp\u001b[39;00m\n\u001b[32m    768\u001b[39m ping = \u001b[38;5;28mself\u001b[39m.groupings[\u001b[32m0\u001b[39m]\n\u001b[32m--> \u001b[39m\u001b[32m769\u001b[39m \u001b[38;5;28;01mreturn\u001b[39;00m \u001b[43mping\u001b[49m\u001b[43m.\u001b[49m\u001b[43mcodes\u001b[49m, np.arange(\u001b[38;5;28mlen\u001b[39m(ping._group_index), dtype=np.intp)\n",
      "\u001b[36mFile \u001b[39m\u001b[32m~/miniconda3/envs/sklearn-env/lib/python3.13/site-packages/pandas/core/groupby/grouper.py:691\u001b[39m, in \u001b[36mGrouping.codes\u001b[39m\u001b[34m(self)\u001b[39m\n\u001b[32m    689\u001b[39m \u001b[38;5;129m@property\u001b[39m\n\u001b[32m    690\u001b[39m \u001b[38;5;28;01mdef\u001b[39;00m\u001b[38;5;250m \u001b[39m\u001b[34mcodes\u001b[39m(\u001b[38;5;28mself\u001b[39m) -> npt.NDArray[np.signedinteger]:\n\u001b[32m--> \u001b[39m\u001b[32m691\u001b[39m     \u001b[38;5;28;01mreturn\u001b[39;00m \u001b[38;5;28;43mself\u001b[39;49m\u001b[43m.\u001b[49m\u001b[43m_codes_and_uniques\u001b[49m[\u001b[32m0\u001b[39m]\n",
      "\u001b[36mFile \u001b[39m\u001b[32mproperties.pyx:36\u001b[39m, in \u001b[36mpandas._libs.properties.CachedProperty.__get__\u001b[39m\u001b[34m()\u001b[39m\n",
      "\u001b[36mFile \u001b[39m\u001b[32m~/miniconda3/envs/sklearn-env/lib/python3.13/site-packages/pandas/core/groupby/grouper.py:835\u001b[39m, in \u001b[36mGrouping._codes_and_uniques\u001b[39m\u001b[34m(self)\u001b[39m\n\u001b[32m    830\u001b[39m     uniques = \u001b[38;5;28mself\u001b[39m._uniques\n\u001b[32m    831\u001b[39m \u001b[38;5;28;01melse\u001b[39;00m:\n\u001b[32m    832\u001b[39m     \u001b[38;5;66;03m# GH35667, replace dropna=False with use_na_sentinel=False\u001b[39;00m\n\u001b[32m    833\u001b[39m     \u001b[38;5;66;03m# error: Incompatible types in assignment (expression has type \"Union[\u001b[39;00m\n\u001b[32m    834\u001b[39m     \u001b[38;5;66;03m# ndarray[Any, Any], Index]\", variable has type \"Categorical\")\u001b[39;00m\n\u001b[32m--> \u001b[39m\u001b[32m835\u001b[39m     codes, uniques = \u001b[43malgorithms\u001b[49m\u001b[43m.\u001b[49m\u001b[43mfactorize\u001b[49m\u001b[43m(\u001b[49m\u001b[43m  \u001b[49m\u001b[38;5;66;43;03m# type: ignore[assignment]\u001b[39;49;00m\n\u001b[32m    836\u001b[39m \u001b[43m        \u001b[49m\u001b[38;5;28;43mself\u001b[39;49m\u001b[43m.\u001b[49m\u001b[43mgrouping_vector\u001b[49m\u001b[43m,\u001b[49m\u001b[43m \u001b[49m\u001b[43msort\u001b[49m\u001b[43m=\u001b[49m\u001b[38;5;28;43mself\u001b[39;49m\u001b[43m.\u001b[49m\u001b[43m_sort\u001b[49m\u001b[43m,\u001b[49m\u001b[43m \u001b[49m\u001b[43muse_na_sentinel\u001b[49m\u001b[43m=\u001b[49m\u001b[38;5;28;43mself\u001b[39;49m\u001b[43m.\u001b[49m\u001b[43m_dropna\u001b[49m\n\u001b[32m    837\u001b[39m \u001b[43m    \u001b[49m\u001b[43m)\u001b[49m\n\u001b[32m    838\u001b[39m \u001b[38;5;28;01mreturn\u001b[39;00m codes, uniques\n",
      "\u001b[36mFile \u001b[39m\u001b[32m~/miniconda3/envs/sklearn-env/lib/python3.13/site-packages/pandas/core/algorithms.py:795\u001b[39m, in \u001b[36mfactorize\u001b[39m\u001b[34m(values, sort, use_na_sentinel, size_hint)\u001b[39m\n\u001b[32m    792\u001b[39m             \u001b[38;5;66;03m# Don't modify (potentially user-provided) array\u001b[39;00m\n\u001b[32m    793\u001b[39m             values = np.where(null_mask, na_value, values)\n\u001b[32m--> \u001b[39m\u001b[32m795\u001b[39m     codes, uniques = \u001b[43mfactorize_array\u001b[49m\u001b[43m(\u001b[49m\n\u001b[32m    796\u001b[39m \u001b[43m        \u001b[49m\u001b[43mvalues\u001b[49m\u001b[43m,\u001b[49m\n\u001b[32m    797\u001b[39m \u001b[43m        \u001b[49m\u001b[43muse_na_sentinel\u001b[49m\u001b[43m=\u001b[49m\u001b[43muse_na_sentinel\u001b[49m\u001b[43m,\u001b[49m\n\u001b[32m    798\u001b[39m \u001b[43m        \u001b[49m\u001b[43msize_hint\u001b[49m\u001b[43m=\u001b[49m\u001b[43msize_hint\u001b[49m\u001b[43m,\u001b[49m\n\u001b[32m    799\u001b[39m \u001b[43m    \u001b[49m\u001b[43m)\u001b[49m\n\u001b[32m    801\u001b[39m \u001b[38;5;28;01mif\u001b[39;00m sort \u001b[38;5;129;01mand\u001b[39;00m \u001b[38;5;28mlen\u001b[39m(uniques) > \u001b[32m0\u001b[39m:\n\u001b[32m    802\u001b[39m     uniques, codes = safe_sort(\n\u001b[32m    803\u001b[39m         uniques,\n\u001b[32m    804\u001b[39m         codes,\n\u001b[32m   (...)\u001b[39m\u001b[32m    807\u001b[39m         verify=\u001b[38;5;28;01mFalse\u001b[39;00m,\n\u001b[32m    808\u001b[39m     )\n",
      "\u001b[36mFile \u001b[39m\u001b[32m~/miniconda3/envs/sklearn-env/lib/python3.13/site-packages/pandas/core/algorithms.py:595\u001b[39m, in \u001b[36mfactorize_array\u001b[39m\u001b[34m(values, use_na_sentinel, size_hint, na_value, mask)\u001b[39m\n\u001b[32m    592\u001b[39m hash_klass, values = _get_hashtable_algo(values)\n\u001b[32m    594\u001b[39m table = hash_klass(size_hint \u001b[38;5;129;01mor\u001b[39;00m \u001b[38;5;28mlen\u001b[39m(values))\n\u001b[32m--> \u001b[39m\u001b[32m595\u001b[39m uniques, codes = \u001b[43mtable\u001b[49m\u001b[43m.\u001b[49m\u001b[43mfactorize\u001b[49m\u001b[43m(\u001b[49m\n\u001b[32m    596\u001b[39m \u001b[43m    \u001b[49m\u001b[43mvalues\u001b[49m\u001b[43m,\u001b[49m\n\u001b[32m    597\u001b[39m \u001b[43m    \u001b[49m\u001b[43mna_sentinel\u001b[49m\u001b[43m=\u001b[49m\u001b[43m-\u001b[49m\u001b[32;43m1\u001b[39;49m\u001b[43m,\u001b[49m\n\u001b[32m    598\u001b[39m \u001b[43m    \u001b[49m\u001b[43mna_value\u001b[49m\u001b[43m=\u001b[49m\u001b[43mna_value\u001b[49m\u001b[43m,\u001b[49m\n\u001b[32m    599\u001b[39m \u001b[43m    \u001b[49m\u001b[43mmask\u001b[49m\u001b[43m=\u001b[49m\u001b[43mmask\u001b[49m\u001b[43m,\u001b[49m\n\u001b[32m    600\u001b[39m \u001b[43m    \u001b[49m\u001b[43mignore_na\u001b[49m\u001b[43m=\u001b[49m\u001b[43muse_na_sentinel\u001b[49m\u001b[43m,\u001b[49m\n\u001b[32m    601\u001b[39m \u001b[43m\u001b[49m\u001b[43m)\u001b[49m\n\u001b[32m    603\u001b[39m \u001b[38;5;66;03m# re-cast e.g. i8->dt64/td64, uint8->bool\u001b[39;00m\n\u001b[32m    604\u001b[39m uniques = _reconstruct_data(uniques, original.dtype, original)\n",
      "\u001b[31mKeyboardInterrupt\u001b[39m: "
     ]
    },
    {
     "ename": "",
     "evalue": "",
     "output_type": "error",
     "traceback": [
      "\u001b[1;31m无法执行代码，已释放会话。请尝试重新启动内核。"
     ]
    },
    {
     "ename": "",
     "evalue": "",
     "output_type": "error",
     "traceback": [
      "\u001b[1;31m无法执行代码，已释放会话。请尝试重新启动内核。. \n",
      "\u001b[1;31m有关更多详细信息，请查看 Jupyter <a href='command:jupyter.viewOutput'>log</a>。"
     ]
    }
   ],
   "source": [
    "import pandas as pd\n",
    "data = pd.DataFrame(np.hstack([X_scaled, Y_scaled]), columns=['kappa', 'alpha','Hz','DeltE', 'T', 'OMG'])\n",
    "g = sns.pairplot(\n",
    "    data,\n",
    "    diag_kind=\"kde\",\n",
    "    kind=\"scatter\",\n",
    "    x_vars=['kappa', 'alpha','Hz','DeltE'],\n",
    "    y_vars=['T', 'OMG'],\n",
    "    plot_kws=dict(s=50,edgecolor=\"w\",color=\"b\",alpha=.5)\n",
    "    \n",
    "    )\n",
    "# 设置坐标轴标签\n",
    "x_labels = [r'$\\kappa$', r'$\\alpha$', r'$H_z$', r'$\\Delta E$']\n",
    "y_labels = [r'$\\Delta T$', r'$\\Delta \\Omega$']\n",
    "\n",
    "for i, ax_row in enumerate(g.axes):  # 遍历每一行（对应 y_vars）\n",
    "    for j, ax in enumerate(ax_row):  # 遍历每一列（对应 x_vars）\n",
    "        # 添加外框线（默认 seaborn 会隐藏部分边框，需手动恢复）\n",
    "        for spine in ['top', 'bottom', 'left', 'right']:\n",
    "            ax.spines[spine].set_visible(True)\n",
    "            ax.spines[spine].set_color('black')  # 边框颜色设为黑色\n",
    "            ax.spines[spine].set_linewidth(0.5)   # 边框线宽\n",
    "        \n",
    "        # 设置坐标轴标签\n",
    "        ax.set_xlabel(x_labels[j], fontsize=12)\n",
    "        ax.set_ylabel(y_labels[i], fontsize=12)\n",
    "\n",
    "plt.tight_layout()  # 调整布局避免标签重叠\n",
    "plt.savefig(\"img/FourParamDistribution.png\", dpi=300, format=\"png\", bbox_inches=\"tight\")  # 保存为 PNG\n",
    "plt.show()"
   ]
  },
  {
   "cell_type": "markdown",
   "id": "712c32e7",
   "metadata": {},
   "source": [
    "模型训练"
   ]
  },
  {
   "cell_type": "code",
   "execution_count": 3,
   "id": "c9e7494d",
   "metadata": {},
   "outputs": [],
   "source": [
    "import torch\n",
    "import torch.optim as optim\n",
    "import torch.nn as nn\n",
    "from torch.utils.data import Dataset, DataLoader, TensorDataset\n",
    "from model.vae import CVAE\n",
    "from model.vae_v2 import CVAE_v2\n",
    "from model.simple import simple_mle\n",
    "from src.utils import loss_fn, diversity_cvae_loss, generate_k_samples\n",
    "from torch.utils.data import Dataset, DataLoader, TensorDataset, random_split"
   ]
  },
  {
   "cell_type": "code",
   "execution_count": 6,
   "id": "85b5ecd3",
   "metadata": {},
   "outputs": [],
   "source": [
    "X_tensor = torch.tensor(X_scaled, dtype=torch.float32)\n",
    "Y_tensor = torch.tensor(Y_scaled, dtype=torch.float32)\n",
    "dataset = TensorDataset(X_tensor, Y_tensor)\n",
    "dataloader = DataLoader(dataset, batch_size=4096, shuffle=True)\n",
    "# 创建PyTorch数据集\n",
    "dataset = TensorDataset(X_tensor, Y_tensor)\n",
    "total_size = len(dataset)\n",
    "train_size = int(0.7 * total_size)\n",
    "val_size = int(0.15 * total_size)\n",
    "test_size = total_size - train_size - val_size\n",
    "\n",
    "# 使用random_split划分数据集\n",
    "train_dataset, val_dataset, test_dataset = random_split(\n",
    "    dataset, [train_size, val_size, test_size],\n",
    "    generator=torch.Generator().manual_seed(42)  # 设置随机种子保证可重复性\n",
    ")\n",
    "\n",
    "# 创建三个数据加载器\n",
    "train_loader = DataLoader(train_dataset, batch_size=4096, shuffle=True)\n",
    "val_loader = DataLoader(val_dataset, batch_size=4096, shuffle=False)\n",
    "test_loader = DataLoader(test_dataset, batch_size=4096, shuffle=False)\n"
   ]
  },
  {
   "cell_type": "code",
   "execution_count": 7,
   "id": "995a860c",
   "metadata": {},
   "outputs": [],
   "source": [
    "device = \"cuda\"  # cuda-使用GPU训练\n",
    "\n",
    "model = CVAE_v2().to(device)  # 定义模型，model文件夹中\n",
    "optimizer = optim.Adam(model.parameters(), lr=1e-3)  # 用优化器优化模型，lr学习率"
   ]
  },
  {
   "cell_type": "code",
   "execution_count": 11,
   "id": "856559dc",
   "metadata": {},
   "outputs": [
    {
     "data": {
      "text/plain": [
       "2059802"
      ]
     },
     "execution_count": 11,
     "metadata": {},
     "output_type": "execute_result"
    }
   ],
   "source": [
    "torch.cuda.is_available()\n",
    "train_size\n"
   ]
  },
  {
   "cell_type": "markdown",
   "id": "c1049845",
   "metadata": {},
   "source": [
    "train"
   ]
  },
  {
   "cell_type": "code",
   "execution_count": 12,
   "id": "13849298",
   "metadata": {},
   "outputs": [
    {
     "name": "stdout",
     "output_type": "stream",
     "text": [
      "Epoch 1/20\n",
      "Train Loss: 0.0257 | Val Loss: 0.0150\n",
      "──────────────────────────────────────────────────\n",
      "Epoch 2/20\n",
      "Train Loss: 0.0139 | Val Loss: 0.0133\n",
      "──────────────────────────────────────────────────\n",
      "Epoch 3/20\n",
      "Train Loss: 0.0131 | Val Loss: 0.0128\n",
      "──────────────────────────────────────────────────\n",
      "Epoch 4/20\n",
      "Train Loss: 0.0126 | Val Loss: 0.0124\n",
      "──────────────────────────────────────────────────\n",
      "Epoch 5/20\n",
      "Train Loss: 0.0123 | Val Loss: 0.0123\n",
      "──────────────────────────────────────────────────\n",
      "Epoch 6/20\n",
      "Train Loss: 0.0122 | Val Loss: 0.0122\n",
      "──────────────────────────────────────────────────\n",
      "Epoch 7/20\n",
      "Train Loss: 0.0121 | Val Loss: 0.0120\n",
      "──────────────────────────────────────────────────\n",
      "Epoch 8/20\n",
      "Train Loss: 0.0120 | Val Loss: 0.0120\n",
      "──────────────────────────────────────────────────\n",
      "Epoch 9/20\n",
      "Train Loss: 0.0119 | Val Loss: 0.0119\n",
      "──────────────────────────────────────────────────\n",
      "Epoch 10/20\n",
      "Train Loss: 0.0119 | Val Loss: 0.0119\n",
      "──────────────────────────────────────────────────\n",
      "Epoch 11/20\n",
      "Train Loss: 0.0119 | Val Loss: 0.0119\n",
      "──────────────────────────────────────────────────\n",
      "Epoch 12/20\n",
      "Train Loss: 0.0119 | Val Loss: 0.0118\n",
      "──────────────────────────────────────────────────\n",
      "Epoch 13/20\n",
      "Train Loss: 0.0118 | Val Loss: 0.0118\n",
      "──────────────────────────────────────────────────\n",
      "Epoch 14/20\n",
      "Train Loss: 0.0118 | Val Loss: 0.0118\n",
      "──────────────────────────────────────────────────\n",
      "Epoch 15/20\n",
      "Train Loss: 0.0118 | Val Loss: 0.0118\n",
      "──────────────────────────────────────────────────\n",
      "Epoch 16/20\n",
      "Train Loss: 0.0118 | Val Loss: 0.0118\n",
      "──────────────────────────────────────────────────\n",
      "Epoch 17/20\n",
      "Train Loss: 0.0117 | Val Loss: 0.0118\n",
      "──────────────────────────────────────────────────\n",
      "Epoch 18/20\n",
      "Train Loss: 0.0117 | Val Loss: 0.0117\n",
      "──────────────────────────────────────────────────\n",
      "Epoch 19/20\n",
      "Train Loss: 0.0116 | Val Loss: 0.0116\n",
      "──────────────────────────────────────────────────\n",
      "Epoch 20/20\n",
      "Train Loss: 0.0116 | Val Loss: 0.0117\n",
      "──────────────────────────────────────────────────\n",
      "Final Test Loss: 0.0116\n"
     ]
    }
   ],
   "source": [
    "n_epochs = 20\n",
    "train_batch_losses = []  # 记录每个batch的loss\n",
    "val_epoch_losses = []    # 记录每个epoch的验证loss\n",
    "val_positions = []       # 记录验证点在图上的位置\n",
    "kl_annealing_epochs = 10\n",
    "global_step = 0  # 全局训练步数计数器\n",
    "\n",
    "for epoch in range(n_epochs):\n",
    "    # 训练阶段\n",
    "    model.train()\n",
    "    epoch_train_loss = 0\n",
    "    \n",
    "    for batch_idx, (x_batch, y_batch) in enumerate(train_loader):\n",
    "        # 前向传播\n",
    "        x_batch = x_batch.to(device)\n",
    "        y_batch = y_batch.to(device)\n",
    "        _, mu, logvar = model(x_batch, y_batch)\n",
    "        x_hats = generate_k_samples(model, y_batch, 8)\n",
    "        \n",
    "        # 计算KL权重\n",
    "        kl_weight = min(1.0, epoch / kl_annealing_epochs)\n",
    "        \n",
    "        # 计算损失\n",
    "        loss, _, _ = diversity_cvae_loss(x_batch, x_hats, mu, logvar, kl_weight)\n",
    "        \n",
    "        # 反向传播和优化\n",
    "        optimizer.zero_grad()\n",
    "        loss.backward()\n",
    "        optimizer.step()\n",
    "        \n",
    "        # 记录loss和步数\n",
    "        train_batch_losses.append((global_step, loss.item()))\n",
    "        epoch_train_loss += loss.item()\n",
    "        global_step += 1\n",
    "    \n",
    "    # 验证阶段\n",
    "    model.eval()\n",
    "    epoch_val_loss = 0\n",
    "    with torch.no_grad():\n",
    "        for x_val, y_val in val_loader:\n",
    "            x_val = x_val.to(device)\n",
    "            y_val = y_val.to(device)\n",
    "            \n",
    "            _, mu, logvar = model(x_val, y_val)\n",
    "            x_hats = generate_k_samples(model, y_val, 8)\n",
    "            \n",
    "            loss, _, _ = diversity_cvae_loss(x_val, x_hats, mu, logvar, kl_weight)\n",
    "            epoch_val_loss += loss.item()\n",
    "    \n",
    "    # 记录验证结果\n",
    "    avg_val_loss = epoch_val_loss / len(val_loader)\n",
    "    val_epoch_losses.append((global_step, avg_val_loss))  # 记录当前全局步数对应的验证loss\n",
    "    val_positions.append(global_step)  # 记录验证点的位置\n",
    "    \n",
    "    # 打印进度\n",
    "    print(f\"Epoch {epoch+1}/{n_epochs}\")\n",
    "    print(f\"Train Loss: {epoch_train_loss/len(train_loader):.4f} | \"\n",
    "          f\"Val Loss: {avg_val_loss:.4f}\")\n",
    "    print(\"─\"*50)\n",
    "\n",
    "# 测试阶段\n",
    "model.eval()\n",
    "final_test_loss = 0\n",
    "with torch.no_grad():\n",
    "    for x_test, y_test in test_loader:\n",
    "        x_test = x_test.to(device)\n",
    "        y_test = y_test.to(device)\n",
    "        \n",
    "        _, mu, logvar = model(x_test, y_test)\n",
    "        x_hats = generate_k_samples(model, y_test, 8)\n",
    "        loss, _, _ = diversity_cvae_loss(x_test, x_hats, mu, logvar, 1.0)\n",
    "        final_test_loss += loss.item()\n",
    "\n",
    "avg_test_loss = final_test_loss / len(test_loader)\n",
    "print(f\"Final Test Loss: {avg_test_loss:.4f}\")"
   ]
  },
  {
   "cell_type": "code",
   "execution_count": 20,
   "id": "b2fb6cd5",
   "metadata": {},
   "outputs": [
    {
     "data": {
      "text/plain": [
       "(503,\n",
       " 1006,\n",
       " 1509,\n",
       " 2012,\n",
       " 2515,\n",
       " 3018,\n",
       " 3521,\n",
       " 4024,\n",
       " 4527,\n",
       " 5030,\n",
       " 5533,\n",
       " 6036,\n",
       " 6539,\n",
       " 7042,\n",
       " 7545,\n",
       " 8048,\n",
       " 8551,\n",
       " 9054,\n",
       " 9557,\n",
       " 10060)"
      ]
     },
     "execution_count": 20,
     "metadata": {},
     "output_type": "execute_result"
    }
   ],
   "source": [
    "torch.save(model.state_dict(), \"results/CVAE_model_train_val_test.pth\")\n",
    "val_steps"
   ]
  },
  {
   "cell_type": "code",
   "execution_count": null,
   "id": "6cb02775",
   "metadata": {},
   "outputs": [
    {
     "data": {
      "image/png": "[encoded data removed]",
      "text/plain": [
       "<Figure size 800x500 with 1 Axes>"
      ]
     },
     "metadata": {},
     "output_type": "display_data"
    }
   ],
   "source": [
    "# 可视化代码\n",
    "plt.figure(figsize=(8, 5))\n",
    "\n",
    "# 解包训练loss数据\n",
    "train_steps, train_losses = zip(*train_batch_losses)\n",
    "# 解包验证loss数据\n",
    "val_steps, val_losses = zip(*val_epoch_losses)\n",
    "\n",
    "# 绘制训练loss曲线（半透明处理避免过于密集）\n",
    "plt.plot(train_steps, train_losses, \n",
    "         color='royalblue', \n",
    "         alpha=0.4, \n",
    "         linewidth=1,\n",
    "         label='Training Loss (per batch)')\n",
    "\n",
    "# 添加训练loss的滑动平均（窗口大小为100步）\n",
    "window_size = 100\n",
    "train_smoothed = np.convolve(train_losses, np.ones(window_size)/window_size, mode='valid')\n",
    "plt.plot(train_steps[window_size-1:], train_smoothed,\n",
    "         color='darkblue',\n",
    "         linewidth=2,\n",
    "         label=f'Training Loss ({window_size}-step avg)')\n",
    "\n",
    "# 绘制验证loss\n",
    "plt.scatter(val_steps, val_losses,\n",
    "            color='crimson',\n",
    "            s=80,\n",
    "            edgecolors='white',\n",
    "            zorder=3,\n",
    "            label='Validation Loss (per epoch)')\n",
    "\n",
    "# 添加最终测试loss\n",
    "plt.axhline(y=avg_test_loss,\n",
    "            color='forestgreen',\n",
    "            linestyle='--',\n",
    "            linewidth=2.5,\n",
    "            label=f'Final Test Loss ({avg_test_loss:.4f})')\n",
    "\n",
    "# 添加特殊标注\n",
    "# plt.text(0.05, 0.95,\n",
    "#          f'Best Val Loss: {min(val_losses):.4f}\\n'\n",
    "#          f'Final Test Loss: {avg_test_loss:.4f}',\n",
    "#          transform=plt.gca().transAxes,\n",
    "#          verticalalignment='top',\n",
    "#          bbox=dict(facecolor='white', alpha=0.9))\n",
    "\n",
    "# 图表装饰\n",
    "# plt.title('Training Process Monitoring', fontsize=14, pad=20)\n",
    "plt.xlabel('Training Steps', fontsize=14)\n",
    "plt.ylabel('Loss Value', fontsize=14)\n",
    "plt.xlim(0,10060)\n",
    "plt.yscale('log')  # 对数坐标轴更好显示变化\n",
    "plt.grid(True, alpha=0.3, which='both')\n",
    "plt.legend(loc='upper right', framealpha=0.9, fontsize = 14)\n",
    "\n",
    "# 添加epoch分隔线\n",
    "for step in val_positions[:-1]:  # 排除最后一个验证点\n",
    "    plt.axvline(x=step, color='gray', linestyle=':', alpha=0.4)\n",
    "\n",
    "plt.tight_layout()\n",
    "plt.savefig(\"img/LossIMG.png\", dpi=300, format=\"png\", bbox_inches=\"tight\")  # 保存为 PNG\n",
    "plt.show()"
   ]
  },
  {
   "cell_type": "code",
   "execution_count": 14,
   "id": "18f61b04",
   "metadata": {},
   "outputs": [
    {
     "ename": "NameError",
     "evalue": "name 'train_losses' is not defined",
     "output_type": "error",
     "traceback": [
      "\u001b[31m---------------------------------------------------------------------------\u001b[39m",
      "\u001b[31mNameError\u001b[39m                                 Traceback (most recent call last)",
      "\u001b[36mCell\u001b[39m\u001b[36m \u001b[39m\u001b[32mIn[14]\u001b[39m\u001b[32m, line 2\u001b[39m\n\u001b[32m      1\u001b[39m plt.figure(figsize=(\u001b[32m10\u001b[39m, \u001b[32m6\u001b[39m))\n\u001b[32m----> \u001b[39m\u001b[32m2\u001b[39m plt.plot( \u001b[43mtrain_losses\u001b[49m, \u001b[33m'\u001b[39m\u001b[33mb-\u001b[39m\u001b[33m'\u001b[39m, linewidth=\u001b[32m2\u001b[39m, label=\u001b[33m'\u001b[39m\u001b[33mTraining Loss\u001b[39m\u001b[33m'\u001b[39m)\n\u001b[32m      3\u001b[39m plt.xlabel(\u001b[33m'\u001b[39m\u001b[33mEpoch\u001b[39m\u001b[33m'\u001b[39m, fontsize=\u001b[32m14\u001b[39m)\n\u001b[32m      4\u001b[39m plt.ylabel(\u001b[33m'\u001b[39m\u001b[33mLoss (log scale)\u001b[39m\u001b[33m'\u001b[39m, fontsize=\u001b[32m14\u001b[39m)\n",
      "\u001b[31mNameError\u001b[39m: name 'train_losses' is not defined"
     ]
    },
    {
     "data": {
      "text/plain": [
       "<Figure size 1000x600 with 0 Axes>"
      ]
     },
     "metadata": {},
     "output_type": "display_data"
    }
   ],
   "source": [
    "plt.figure(figsize=(10, 6))\n",
    "plt.plot( train_losses, 'b-', linewidth=2, label='Training Loss')\n",
    "plt.xlabel('Epoch', fontsize=14)\n",
    "plt.ylabel('Loss (log scale)', fontsize=14)\n",
    "plt.title('Training Loss Curve (semilog)', fontsize=16)\n",
    "plt.grid(True, linestyle='--', alpha=0.6, which='both')\n",
    "plt.legend(fontsize=12)\n",
    "plt.xticks(fontsize=12)\n",
    "plt.yticks(fontsize=12)\n",
    "plt.show()"
   ]
  },
  {
   "cell_type": "markdown",
   "id": "214a7978",
   "metadata": {},
   "source": [
    "sample"
   ]
  },
  {
   "cell_type": "code",
   "execution_count": 18,
   "id": "e24a510b",
   "metadata": {},
   "outputs": [
    {
     "data": {
      "text/plain": [
       "array([[2.57486547e-03, 9.58417475e-01, 1.76960480e+00, 6.25748187e-04],\n",
       "       [1.32204650e-03, 4.79961544e-01, 1.79500258e+00, 3.45686497e-03],\n",
       "       [2.29200488e-03, 9.17943954e-01, 1.77952933e+00, 1.65522005e-03],\n",
       "       ...,\n",
       "       [2.05263705e-03, 8.90467763e-01, 1.79833198e+00, 3.96734243e-03],\n",
       "       [2.76340987e-03, 1.11189902e+00, 1.77201796e+00, 1.40155526e-03],\n",
       "       [2.78902589e-03, 1.15733957e+00, 1.82704604e+00, 4.10002191e-03]],\n",
       "      shape=(1000, 4))"
      ]
     },
     "execution_count": 18,
     "metadata": {},
     "output_type": "execute_result"
    }
   ],
   "source": [
    "import scipy.io as sio\n",
    "# model_path = \"results/vae_model_scaled_v2.pth\"\n",
    "model_path = \"results/CVAE_model_train_val_test.pth\"\n",
    "model = CVAE_v2()\n",
    "model.load_state_dict(torch.load(model_path))\n",
    "\n",
    "from src.utils import gengrate_sample\n",
    "Y_Samples = [37.6308,-0.1257]\n",
    "cond = np.asarray(Y_Samples).reshape(-1,2)\n",
    "cond_scaled = np.zeros(cond.shape)\n",
    "for i in range(2):\n",
    "    cond_scaled[:, i] = y_scalers[i].transform(cond[:, i].reshape(-1, 1)).flatten()\n",
    "\n",
    "X_Samples_scaled = gengrate_sample(model, cond=cond_scaled.reshape(2,),num_samples=1000,sample_std=5)\n",
    "\n",
    "\n",
    "X_Samples = np.zeros(X_Samples_scaled.shape)\n",
    "for i in range(4):\n",
    "    X_Samples[:, i] = x_scalers[i].inverse_transform(X_Samples_scaled[:, i].reshape(-1, 1)).flatten()\n",
    "# 保存为MATLAB的.mat文件\n",
    "sio.savemat('results/samples_VAE0508_std5_validation_1000.mat', {\n",
    "    'X_samples': X_Samples,\n",
    "    'Y_samples': Y_Samples\n",
    "})\n",
    "\n",
    "X_Samples"
   ]
  },
  {
   "cell_type": "code",
   "execution_count": 19,
   "id": "e0844461",
   "metadata": {},
   "outputs": [],
   "source": [
    "shared_path = \"/mnt/d/读博生活/博2024-2025/2406庞加莱截面编队筛选方法/Matlab/J2-exp(0)/Poincare_2408/PythonSharedData\"\n",
    "\n",
    "sio.savemat(shared_path + '/samples_VAE0508_std5_validation_1000.mat', {\n",
    "    'X_samples': X_Samples,\n",
    "    'Y_samples': Y_Samples\n",
    "})"
   ]
  },
  {
   "cell_type": "code",
   "execution_count": null,
   "id": "848b5cea",
   "metadata": {},
   "outputs": [],
   "source": [
    "\n",
    "# import matlab.engine\n",
    "# # 启动MATLAB引擎\n",
    "# eng = matlab.engine.start_matlab()\n",
    "\n",
    "# #从sample中提取4个参数\n",
    "# current_k = samples[:, 0].tolist()      # 转为Python list（MATLAB兼容）\n",
    "# current_alpha = samples[:, 1].tolist()\n",
    "# current_Hz = samples[:, 2].tolist()    \n",
    "# current_DeltE = samples[:, 3].tolist()\n",
    "\n",
    "# Td_learning = []\n",
    "# OMGd_learning = []\n",
    "\n",
    "# for hz, k, alpha, de in zip(current_Hz, current_k, current_alpha, current_DeltE):\n",
    "#     # 将参数转换为MATLAB double类型\n",
    "#     hz_matlab = matlab.double([hz])\n",
    "#     k_matlab = matlab.double([k])\n",
    "#     alpha_matlab = matlab.double([alpha])\n",
    "#     de_matlab = matlab.double([de])\n",
    "    \n",
    "#     # 调用函数，获取输出\n",
    "#     Td, OMGd = eng.TimeNAngleGenerate_Peri(hz_matlab, k_matlab, alpha_matlab, de_matlab, nargout=2)\n",
    "    \n",
    "#     # 转换为Python列表并保存\n",
    "#     Td_learning.append(np.array(Td._data).flatten())  # 转为NumPy数组\n",
    "#     OMGd_learning.append(np.array(OMGd._data).flatten())\n",
    "\n",
    "# eng.quit()\n",
    "\n",
    "# Td_array = np.vstack(Td_list)    # 假设每个输出是1D数组\n",
    "# OMGd_array = np.vstack(OMGd_list)\n"
   ]
  },
  {
   "cell_type": "code",
   "execution_count": null,
   "id": "eb0044fa",
   "metadata": {},
   "outputs": [],
   "source": [
    "plt.figure()\n",
    "plt.hist(samples[:, 0], bins=20, alpha=0.7, label='x1')\n",
    "plt.hist(samples[:, 1], bins=20, alpha=0.7, label='x2')\n",
    "plt.legend()"
   ]
  },
  {
   "cell_type": "code",
   "execution_count": null,
   "id": "c1c3a22f",
   "metadata": {},
   "outputs": [],
   "source": [
    "device = \"cuda\"\n",
    "\n",
    "model_nn = simple_mle().to(device)\n",
    "optimizer_nn = optim.Adam(model.parameters(), lr=1e-3)\n",
    "loss_fn_nn = nn.MSELoss()"
   ]
  },
  {
   "cell_type": "code",
   "execution_count": null,
   "id": "1f06fb78",
   "metadata": {},
   "outputs": [],
   "source": [
    "n_epochs = 10\n",
    "for epoch in range(n_epochs):\n",
    "    total_loss = 0\n",
    "    for x_batch, y_batch in dataloader:\n",
    "        x_batch = x_batch.to(device)\n",
    "        y_batch = y_batch.to(device)\n",
    "\n",
    "        x_pred = model_nn(x_batch)\n",
    "        loss = loss_fn_nn(x_pred, y_batch)\n",
    "        # x_recon, mu, logvar = model(x_batch, y_batch)\n",
    "        # loss = loss_fn(x_recon, x_batch, mu, logvar)\n",
    "\n",
    "        optimizer.zero_grad()\n",
    "        loss.backward()\n",
    "        optimizer.step()\n",
    "        total_loss += loss.item()\n",
    "    \n",
    "    print(f\"Epoch {epoch+1}: Loss = {total_loss / len(dataloader):.4f}\")\n",
    "\n",
    "\n",
    "torch.save(model.state_dict(), \"results/mle_model.pth\")"
   ]
  },
  {
   "cell_type": "code",
   "execution_count": null,
   "id": "f9cb66b4",
   "metadata": {},
   "outputs": [],
   "source": [
    "model_path = \"results/mle_model.pth\"\n",
    "model = simple_mle()\n",
    "model.load_state_dict(torch.load(model_path))\n",
    "\n",
    "from src.utils import gengrate_sample\n",
    "from src.utils import gengrate_sample_mle\n",
    "# samples_scaled = gengrate_sample_mle(model, cond=[y_scalers[0].transform(57.67),y_scalers[0].transform(-0.39)],num_samples=10,sample_std=10)\n",
    "cond = np.asarray([57.67,-0.39]).reshape(-1,2)\n",
    "cond_scaled = np.zeros(cond.shape)\n",
    "for i in range(2):\n",
    "    cond_scaled[:, i] = y_scalers[i].transform(cond[:, i].reshape(-1, 1)).flatten()\n",
    "# samples_scaled = gengrate_sample(model, cond = cond_scaled.reshape(2,),num_samples=10,sample_std=1)\n",
    "samples_scaled = gengrate_sample_mle(model, cond_scaled.reshape(2,),num_sample=10)"
   ]
  }
 ],
 "metadata": {
  "kernelspec": {
   "display_name": "sklearn-env",
   "language": "python",
   "name": "python3"
  },
  "language_info": {
   "codemirror_mode": {
    "name": "ipython",
    "version": 3
   },
   "file_extension": ".py",
   "mimetype": "text/x-python",
   "name": "python",
   "nbconvert_exporter": "python",
   "pygments_lexer": "ipython3",
   "version": "3.13.2"
  }
 },
 "nbformat": 4,
 "nbformat_minor": 5
}
